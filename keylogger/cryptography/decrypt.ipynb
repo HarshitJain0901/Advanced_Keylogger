{
 "cells": [
  {
   "cell_type": "code",
   "execution_count": 1,
   "id": "ff3f66ac-8c3f-4058-9478-5b2c4e7d00c1",
   "metadata": {},
   "outputs": [],
   "source": [
    "from cryptography.fernet import Fernet\n",
    "\n",
    "key = \"-CVQ6Mz2LN1cj1Tu3ZuK1p7OVOrXhIMvq2xV_tWnYjg=\"\n",
    "\n",
    "system_information_e = 'e_systeminfo.txt'\n",
    "clipboard_information_e = 'e_clipboard.txt'\n",
    "keys_information_e = 'e_key_log.txt'\n",
    "\n",
    "\n",
    "\n",
    "encrypted_files = [system_information_e, clipboard_information_e, keys_information_e]\n",
    "count = 0\n",
    "\n",
    "\n",
    "for decrypting_files in encrypted_files:\n",
    "\n",
    "    with open(encrypted_files[count], 'rb') as f:\n",
    "        data = f.read()\n",
    "\n",
    "    fernet = Fernet(key)\n",
    "    decrypted = fernet.decrypt(data)\n",
    "\n",
    "    with open(\"decryption.txt\", 'ab') as f:\n",
    "        f.write(decrypted)\n",
    "\n",
    "    count += 1"
   ]
  },
  {
   "cell_type": "code",
   "execution_count": null,
   "id": "5e6248da-f9eb-4557-a4e6-615da434339a",
   "metadata": {},
   "outputs": [],
   "source": []
  },
  {
   "cell_type": "code",
   "execution_count": null,
   "id": "f8a3b781-2925-4ec9-a822-560f155a6a86",
   "metadata": {},
   "outputs": [],
   "source": []
  }
 ],
 "metadata": {
  "kernelspec": {
   "display_name": "Python 3 (ipykernel)",
   "language": "python",
   "name": "python3"
  },
  "language_info": {
   "codemirror_mode": {
    "name": "ipython",
    "version": 3
   },
   "file_extension": ".py",
   "mimetype": "text/x-python",
   "name": "python",
   "nbconvert_exporter": "python",
   "pygments_lexer": "ipython3",
   "version": "3.12.4"
  }
 },
 "nbformat": 4,
 "nbformat_minor": 5
}
