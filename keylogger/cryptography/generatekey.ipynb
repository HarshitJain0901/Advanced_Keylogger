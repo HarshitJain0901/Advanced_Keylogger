{
 "cells": [
  {
   "cell_type": "code",
   "execution_count": 1,
   "id": "c5eb0c2a-67c5-4c76-b0c9-852fbbe03825",
   "metadata": {},
   "outputs": [],
   "source": [
    "from cryptography.fernet import Fernet\n",
    "\n",
    "\n",
    "key = Fernet.generate_key()\n",
    "file = open(\"encryption_key.txt\", 'wb')\n",
    "file.write(key)\n",
    "file.close()"
   ]
  },
  {
   "cell_type": "code",
   "execution_count": null,
   "id": "01f67ae4-71bf-412d-9874-f42337efb1c2",
   "metadata": {},
   "outputs": [],
   "source": []
  }
 ],
 "metadata": {
  "kernelspec": {
   "display_name": "Python 3 (ipykernel)",
   "language": "python",
   "name": "python3"
  },
  "language_info": {
   "codemirror_mode": {
    "name": "ipython",
    "version": 3
   },
   "file_extension": ".py",
   "mimetype": "text/x-python",
   "name": "python",
   "nbconvert_exporter": "python",
   "pygments_lexer": "ipython3",
   "version": "3.12.4"
  }
 },
 "nbformat": 4,
 "nbformat_minor": 5
}
